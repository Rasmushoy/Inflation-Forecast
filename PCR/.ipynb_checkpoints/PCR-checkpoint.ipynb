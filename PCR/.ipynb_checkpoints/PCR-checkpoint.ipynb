{
 "cells": [
  {
   "cell_type": "code",
   "execution_count": null,
   "id": "a8f69192-7e3c-46a2-93b8-6c935855fb92",
   "metadata": {},
   "outputs": [],
   "source": [
    "import os\n",
    "import getpass\n",
    "import numpy as np\n",
    "import pandas as pd\n",
    "from time import time\n",
    "from functools import reduce\n",
    "import matplotlib.pyplot as plt\n",
    "\n",
    "# Sklearn\n",
    "from sklearn.impute import SimpleImputer\n",
    "\n",
    "from sklearn.decomposition import PCA\n",
    "from sklearn.linear_model import LinearRegression\n",
    "from sklearn.pipeline import Pipeline\n",
    "\n",
    "from sklearn.preprocessing import StandardScaler\n",
    "from sklearn.model_selection import train_test_split, TimeSeriesSplit, cross_val_score\n",
    "from sklearn.metrics import mean_squared_error, r2_score, mean_absolute_error\n",
    "\n",
    "# Own Liberay\n",
    "import PCR_model as model"
   ]
  },
  {
   "cell_type": "markdown",
   "id": "5988764f-165f-4965-a379-2d803063b48e",
   "metadata": {},
   "source": [
    "# PCR - Principal component regression"
   ]
  },
  {
   "cell_type": "markdown",
   "id": "79583df8-9b1b-4e2c-b5ad-e3e753eac417",
   "metadata": {},
   "source": [
    "## Data processing\n"
   ]
  },
  {
   "cell_type": "code",
   "execution_count": null,
   "id": "d195efe7-7e3d-4fd0-b988-f012a0304969",
   "metadata": {},
   "outputs": [],
   "source": [
    "# Gå et niveau op og naviger til mappen \"Data\"\n",
    "os.chdir('../Data')"
   ]
  },
  {
   "cell_type": "markdown",
   "id": "9a912777-12f7-4a6d-bd6f-a048f96c7633",
   "metadata": {},
   "source": [
    "### 1. Load data"
   ]
  },
  {
   "cell_type": "code",
   "execution_count": null,
   "id": "9c0fafef-1925-4c22-ab39-431278466503",
   "metadata": {},
   "outputs": [],
   "source": [
    "# Import features\n",
    "file_path = 'Merged_dataset.csv'\n",
    "df = pd.read_csv(\"merged_dataset.csv\", sep=\";\", parse_dates=[\"Date\"])\n",
    "df.set_index(\"Date\", inplace=True)\n",
    "df.shape"
   ]
  },
  {
   "cell_type": "code",
   "execution_count": null,
   "id": "606cb163-578d-444c-9559-71d6943f87e9",
   "metadata": {},
   "outputs": [],
   "source": [
    "y = df.iloc[:, 0]   # første kolonne = inflation\n",
    "X = df.iloc[:, 1:]  # resten = forklarende variable\n",
    "\n",
    "# Tjek dimensioner\n",
    "print(\"y shape:\", y.shape)\n",
    "print(\"X shape:\", X.shape)"
   ]
  },
  {
   "cell_type": "markdown",
   "id": "ac48f190-00be-4a9a-8519-47b3948c86c3",
   "metadata": {},
   "source": [
    "### 2. Imputer manglende værdier"
   ]
  },
  {
   "cell_type": "code",
   "execution_count": null,
   "id": "0ad6a0b0-1305-47e3-9e0b-b306a8c58ba2",
   "metadata": {},
   "outputs": [],
   "source": [
    "imputer = SimpleImputer(strategy=\"median\")  # Eller \"median\"\n",
    "\n",
    "X_imputed = imputer.fit_transform(X)  # Imputer NaN i hele datasættet\n",
    "\n",
    "# Konverter tilbage til DataFrame med kolonnenavne\n",
    "X = pd.DataFrame(X_imputed, columns=X.columns, index = df.index)"
   ]
  },
  {
   "cell_type": "markdown",
   "id": "684d3ce9-ac7f-41ad-9389-3a86a405a9ca",
   "metadata": {},
   "source": [
    "### 3. Standardiser data "
   ]
  },
  {
   "cell_type": "code",
   "execution_count": null,
   "id": "87620b6a-ff2d-4155-bd3f-2d354b58c21b",
   "metadata": {},
   "outputs": [],
   "source": [
    "scaler = StandardScaler()\n",
    "X_scaled = scaler.fit_transform(X)"
   ]
  },
  {
   "cell_type": "markdown",
   "id": "1dd1606d-3259-44dd-8c1d-10f1ab158d34",
   "metadata": {},
   "source": [
    "# Forecast"
   ]
  },
  {
   "cell_type": "code",
   "execution_count": null,
   "id": "5358976d-369d-4cdd-9185-f2f96af29bb7",
   "metadata": {},
   "outputs": [],
   "source": [
    "df_pcr_rolling_forecast  = model.pcr_forecaster(X=X, \n",
    "                      y=y, \n",
    "                      forecast_horizon = 12, \n",
    "                      last_observation_date=\"2024-12-01\", \n",
    "                      scaler=scaler, \n",
    "                      window_length=108,\n",
    "                      variance_threshold=0.999, \n",
    "                      verbose=True)"
   ]
  },
  {
   "cell_type": "code",
   "execution_count": null,
   "id": "75e97812-0579-43d3-92b8-4d8649baf52f",
   "metadata": {},
   "outputs": [],
   "source": [
    "df_pcr_rolling_forecast"
   ]
  },
  {
   "cell_type": "markdown",
   "id": "0bb7a597-fa65-4566-af58-a17e07a2cae5",
   "metadata": {},
   "source": [
    "# Forcasting model with a rolling window"
   ]
  },
  {
   "cell_type": "code",
   "execution_count": null,
   "id": "5d0f7c07-0bd8-496c-97c1-af16fe65dacc",
   "metadata": {},
   "outputs": [],
   "source": [
    "forecast_results = model.run_rolling_forecast(X, y, forecast_horizon=12, start_date=\"2023-01-01\", end_date=\"2024-12-01\")"
   ]
  },
  {
   "cell_type": "code",
   "execution_count": null,
   "id": "78d78f73-b59e-4621-b1a7-6704b4268399",
   "metadata": {},
   "outputs": [],
   "source": [
    "eval_df, merged_df = model.evaluate_forecasts(forecast_results, y)\n",
    "eval_df"
   ]
  },
  {
   "cell_type": "code",
   "execution_count": null,
   "id": "9b82ae20-7f07-47a4-a3c9-6befaf833973",
   "metadata": {},
   "outputs": [],
   "source": [
    "h1 = merged_df[merged_df[\"Horizon\"] == 0]\n",
    "h1"
   ]
  },
  {
   "cell_type": "code",
   "execution_count": null,
   "id": "c7309f8f-70ff-4616-b9c7-eb3faebbec74",
   "metadata": {},
   "outputs": [],
   "source": [
    "sum_r = h1[\"Inflationsforecast\"].iloc[11:24].sum() / 12\n",
    "sum_t = h1[\"y_true\"].iloc[11:24].sum() / 12\n",
    "print(sum_r)\n",
    "print(sum_t)"
   ]
  },
  {
   "cell_type": "code",
   "execution_count": null,
   "id": "e975e16e-db91-48a2-a4d4-d0c20bde53a1",
   "metadata": {},
   "outputs": [],
   "source": [
    "plt.figure(figsize=(10, 5))\n",
    "plt.plot(h1[\"Dato\"], h1[\"error\"], label=\"error\", marker=\"o\")\n",
    "plt.plot(h1[\"Dato\"], h1[\"squared_error\"], label=\"abs_error\", marker=\"x\")\n",
    "plt.legend()\n",
    "plt.title(\"PCR: Error\")\n",
    "plt.grid(True)\n",
    "plt.tight_layout()\n",
    "plt.show()"
   ]
  },
  {
   "cell_type": "code",
   "execution_count": null,
   "id": "3fa3748a-ca86-4894-9e02-4904af58baef",
   "metadata": {},
   "outputs": [],
   "source": [
    "plt.figure(figsize=(10, 5))\n",
    "plt.plot(h1[\"Dato\"], h1[\"y_true\"], label=\"Faktisk\", marker=\"o\")\n",
    "plt.plot(h1[\"Dato\"], h1[\"Inflationsforecast\"], label=\"Forecast (h=1)\", marker=\"x\")\n",
    "plt.legend()\n",
    "plt.title(\"PCR: Forecast vs Faktisk Inflation (h=1)\")\n",
    "plt.grid(True)\n",
    "plt.tight_layout()\n",
    "plt.show()"
   ]
  },
  {
   "cell_type": "code",
   "execution_count": null,
   "id": "8ec0a878-54c3-4e73-ba9c-3cb6bfba11eb",
   "metadata": {},
   "outputs": [],
   "source": []
  }
 ],
 "metadata": {
  "kernelspec": {
   "display_name": "Python 3 (ipykernel)",
   "language": "python",
   "name": "python3"
  },
  "language_info": {
   "codemirror_mode": {
    "name": "ipython",
    "version": 3
   },
   "file_extension": ".py",
   "mimetype": "text/x-python",
   "name": "python",
   "nbconvert_exporter": "python",
   "pygments_lexer": "ipython3",
   "version": "3.9.18"
  }
 },
 "nbformat": 4,
 "nbformat_minor": 5
}
