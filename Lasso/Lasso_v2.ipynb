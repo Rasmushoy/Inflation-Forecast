{
 "cells": [
  {
   "cell_type": "code",
   "execution_count": 1,
   "id": "1d30d7af-8c6d-4a9f-9acb-d61742cbde4a",
   "metadata": {},
   "outputs": [],
   "source": [
    "import os\n",
    "import getpass\n",
    "import numpy as np\n",
    "import pandas as pd\n",
    "from time import time\n",
    "from functools import reduce\n",
    "import matplotlib.pyplot as plt\n",
    "\n",
    "# Sklearn\n",
    "from sklearn.impute import SimpleImputer\n",
    "from sklearn.linear_model import LassoCV\n",
    "from sklearn.preprocessing import StandardScaler\n",
    "from sklearn.model_selection import train_test_split, TimeSeriesSplit\n",
    "from sklearn.metrics import mean_squared_error, r2_score, mean_absolute_error\n",
    "\n",
    "# Own lasso Liberay\n",
    "import lasso_model "
   ]
  },
  {
   "cell_type": "markdown",
   "id": "4d71ff2f-298a-4fcb-95ee-04ddc42ff05c",
   "metadata": {},
   "source": [
    "# Lasso to Forecast Inflation"
   ]
  },
  {
   "cell_type": "markdown",
   "id": "bc1d5201-ba37-4a87-82da-4a02395d3d43",
   "metadata": {},
   "source": [
    "## Data processing"
   ]
  },
  {
   "cell_type": "code",
   "execution_count": 4,
   "id": "a2225be2-c231-4c5f-a37c-2eb29712f5f8",
   "metadata": {},
   "outputs": [],
   "source": [
    "# Gå et niveau op og naviger til mappen \"Data\"\n",
    "os.chdir('../Data')"
   ]
  },
  {
   "cell_type": "markdown",
   "id": "0a559b83-a7b5-4c1a-bde5-4da7fa6c50dc",
   "metadata": {},
   "source": [
    "### 1. Load data"
   ]
  },
  {
   "cell_type": "code",
   "execution_count": 6,
   "id": "db4e473d-dd64-41a2-ae5c-2c4a97fccb20",
   "metadata": {},
   "outputs": [
    {
     "data": {
      "text/plain": [
       "(156, 184)"
      ]
     },
     "execution_count": 6,
     "metadata": {},
     "output_type": "execute_result"
    }
   ],
   "source": [
    "# Import features\n",
    "file_path = 'Merged_dataset.csv'\n",
    "df = pd.read_csv(\"merged_dataset.csv\", sep=\";\", parse_dates=[\"Date\"])\n",
    "df.set_index(\"Date\", inplace=True)\n",
    "df.shape"
   ]
  },
  {
   "cell_type": "code",
   "execution_count": 7,
   "id": "cf559e6b-3170-4358-b00f-90ed266ae5ed",
   "metadata": {},
   "outputs": [
    {
     "name": "stdout",
     "output_type": "stream",
     "text": [
      "y shape: (156,)\n",
      "X shape: (156, 183)\n"
     ]
    }
   ],
   "source": [
    "y = df.iloc[:, 0]   # første kolonne = inflation\n",
    "X = df.iloc[:, 1:]  # resten = forklarende variable\n",
    "\n",
    "# Tjek dimensioner\n",
    "print(\"y shape:\", y.shape)\n",
    "print(\"X shape:\", X.shape)"
   ]
  },
  {
   "cell_type": "markdown",
   "id": "8d9a59e4-9c07-47d3-88b9-2c278175d655",
   "metadata": {},
   "source": [
    "### 2. Imputer manglende værdier"
   ]
  },
  {
   "cell_type": "code",
   "execution_count": 9,
   "id": "6f9a7969-180f-4f43-987d-a95f96b57bec",
   "metadata": {},
   "outputs": [],
   "source": [
    "imputer = SimpleImputer(strategy=\"median\")  # Eller \"median\"\n",
    "\n",
    "X_imputed = imputer.fit_transform(X)  # Imputer NaN i hele datasættet\n",
    "\n",
    "# Konverter tilbage til DataFrame med kolonnenavne\n",
    "X = pd.DataFrame(X_imputed, columns=X.columns, index = df.index)"
   ]
  },
  {
   "cell_type": "markdown",
   "id": "2408b73a-35d2-4545-a976-ac866995e809",
   "metadata": {},
   "source": [
    "### 3. Standardiser data "
   ]
  },
  {
   "cell_type": "code",
   "execution_count": 11,
   "id": "ae29ccc6-0c4a-440a-9c50-cbef173976fb",
   "metadata": {},
   "outputs": [],
   "source": [
    "scaler = StandardScaler()\n",
    "X_scaled = scaler.fit_transform(X)"
   ]
  },
  {
   "cell_type": "markdown",
   "id": "1b4d56cf-2ca9-44b5-be16-ea18e7ae5256",
   "metadata": {},
   "source": [
    "# Forecast"
   ]
  },
  {
   "cell_type": "code",
   "execution_count": 13,
   "id": "90b900ed-8022-44bb-87f9-854e8ce4b647",
   "metadata": {},
   "outputs": [],
   "source": [
    "def lasso_forecast(X, y, forecast_horizon, scaler, last_observation_date):\n",
    "    \"\"\"\n",
    "    Træner en LASSO-model til forecasting og forudsiger inflation op til forecast_horizon måneder frem.\n",
    "    \n",
    "    Parametre:\n",
    "        X: pd.DataFrame – features\n",
    "        y: pd.Series – target (inflation)\n",
    "        last_observation_date: str – f.eks. '2024-12-01'\n",
    "        forecast_horizon: int – antal måneder frem\n",
    "        plot: bool – om der skal vises plot\n",
    "    \n",
    "    Returnerer:\n",
    "        forecast_df: pd.DataFrame med datoer og forudsagte værdier\n",
    "    \"\"\"\n",
    "\n",
    "    # 1. Split data\n",
    "    X = X.loc[:last_observation_date]\n",
    "    y = y.loc[:last_observation_date]\n",
    "    \n",
    "    X_scaled = scaler.transform(X)\n",
    "\n",
    "    \n",
    "    # 2. Træn modeller for 1 til forecast_horizon måneder frem\n",
    "    lasso_models = {}\n",
    "\n",
    "    #for h in range(1, forecast_horizon + 1):\n",
    "    for h in range(0, forecast_horizon):\n",
    "        print(f\"\\n=== Horizon {h} ===\")\n",
    "\n",
    "        y_shifted = y.shift(-h)\n",
    "        y_shifted = y_shifted.dropna()\n",
    "     \n",
    "        #X_train = X[:len(y_shifted), :]\n",
    "        X_train = X_scaled[:len(y_shifted)]\n",
    "\n",
    "        y_train = y_shifted\n",
    "        \n",
    "        #print(y_shifted)\n",
    "        \n",
    "        tscv = TimeSeriesSplit(n_splits=4)\n",
    "        alphas = np.logspace(-4, 1, 100)  # Fra 0.0001 til 10\n",
    "        model = LassoCV(alphas=alphas, cv=tscv, max_iter=100000)\n",
    "\n",
    "    \n",
    "        #model = LassoCV(cv=tscv, random_state=42, max_iter=100000)\n",
    "        #model = LassoCV(cv=5, random_state=42, max_iter=100000)\n",
    "        #model.fit(X_train, y_train)\n",
    "        model.fit(X_train, y_train)\n",
    "        lasso_models[h] = model\n",
    "        \n",
    "        coef = model.coef_\n",
    "        print(f\"Antal træningsobservationer: {len(y_train)}\")\n",
    "        print(f\"Valgt alpha: {model.alpha_:.5f}\")\n",
    "        print(f\"0-koeff = {np.sum(coef == 0)}, ≠0-koeff = {np.sum(coef != 0)}\")\n",
    "    \n",
    "    # 3. Forudsig fremtiden\n",
    "    X_t = X.loc[[last_observation_date]]\n",
    "    X_t_scaled = scaler.transform(X_t)\n",
    "\n",
    "    \n",
    "    forecasts = {}\n",
    "    for h in range(0, forecast_horizon):\n",
    "        forecast_value = lasso_models[h].predict(X_t_scaled)\n",
    "        forecasts[h] = forecast_value[0]\n",
    "\n",
    "    # 4. Datoetiketter\n",
    "    start_date = pd.to_datetime(last_observation_date) + pd.DateOffset(months=1)\n",
    "    forecast_dates = [start_date + pd.DateOffset(months=h) for h in forecasts.keys()]\n",
    "\n",
    "    # 👇 Print datoer for de forudsagte måneder\n",
    "    print(\"\\nForudsagte måneder:\")\n",
    "    for date in forecast_dates:\n",
    "        print(date.strftime(\"%Y-%m\"))\n",
    "        \n",
    "        \n",
    "    forecast_df = pd.DataFrame({\n",
    "        \"Dato\": forecast_dates,\n",
    "        \"Inflationsforecast\": list(forecasts.values()),\n",
    "        \"Horizon\": list(forecasts.keys())\n",
    "    })\n",
    "   \n",
    "    return forecast_df\n"
   ]
  },
  {
   "cell_type": "code",
   "execution_count": 14,
   "id": "16a0eacf-1895-4d0c-b0d9-276615955ea5",
   "metadata": {},
   "outputs": [
    {
     "name": "stdout",
     "output_type": "stream",
     "text": [
      "\n",
      "=== Horizon 0 ===\n",
      "Antal træningsobservationer: 156\n",
      "Valgt alpha: 0.00010\n",
      "0-koeff = 139, ≠0-koeff = 44\n",
      "\n",
      "=== Horizon 1 ===\n",
      "Antal træningsobservationer: 155\n",
      "Valgt alpha: 0.00231\n",
      "0-koeff = 128, ≠0-koeff = 55\n",
      "\n",
      "=== Horizon 2 ===\n",
      "Antal træningsobservationer: 154\n",
      "Valgt alpha: 0.07565\n",
      "0-koeff = 167, ≠0-koeff = 16\n",
      "\n",
      "=== Horizon 3 ===\n",
      "Antal træningsobservationer: 153\n",
      "Valgt alpha: 0.17074\n",
      "0-koeff = 171, ≠0-koeff = 12\n",
      "\n",
      "=== Horizon 4 ===\n",
      "Antal træningsobservationer: 152\n",
      "Valgt alpha: 0.15199\n",
      "0-koeff = 166, ≠0-koeff = 17\n",
      "\n",
      "Forudsagte måneder:\n",
      "2025-01\n",
      "2025-02\n",
      "2025-03\n",
      "2025-04\n",
      "2025-05\n",
      "CPU times: user 2min 52s, sys: 7min 34s, total: 10min 27s\n",
      "Wall time: 1min 12s\n"
     ]
    }
   ],
   "source": [
    "forecast_horizon = 5\n",
    "%time forecast_df = lasso_forecast(X, y, forecast_horizon, scaler, last_observation_date=\"2024-12-01\")"
   ]
  },
  {
   "cell_type": "code",
   "execution_count": 15,
   "id": "4823f5c6-1a96-4452-9b56-b641d8de2caa",
   "metadata": {},
   "outputs": [
    {
     "data": {
      "text/html": [
       "<div>\n",
       "<style scoped>\n",
       "    .dataframe tbody tr th:only-of-type {\n",
       "        vertical-align: middle;\n",
       "    }\n",
       "\n",
       "    .dataframe tbody tr th {\n",
       "        vertical-align: top;\n",
       "    }\n",
       "\n",
       "    .dataframe thead th {\n",
       "        text-align: right;\n",
       "    }\n",
       "</style>\n",
       "<table border=\"1\" class=\"dataframe\">\n",
       "  <thead>\n",
       "    <tr style=\"text-align: right;\">\n",
       "      <th></th>\n",
       "      <th>Dato</th>\n",
       "      <th>Inflationsforecast</th>\n",
       "      <th>Horizon</th>\n",
       "    </tr>\n",
       "  </thead>\n",
       "  <tbody>\n",
       "    <tr>\n",
       "      <th>0</th>\n",
       "      <td>2025-01-01</td>\n",
       "      <td>1.882114</td>\n",
       "      <td>0</td>\n",
       "    </tr>\n",
       "    <tr>\n",
       "      <th>1</th>\n",
       "      <td>2025-02-01</td>\n",
       "      <td>2.359884</td>\n",
       "      <td>1</td>\n",
       "    </tr>\n",
       "    <tr>\n",
       "      <th>2</th>\n",
       "      <td>2025-03-01</td>\n",
       "      <td>2.309951</td>\n",
       "      <td>2</td>\n",
       "    </tr>\n",
       "    <tr>\n",
       "      <th>3</th>\n",
       "      <td>2025-04-01</td>\n",
       "      <td>2.191872</td>\n",
       "      <td>3</td>\n",
       "    </tr>\n",
       "    <tr>\n",
       "      <th>4</th>\n",
       "      <td>2025-05-01</td>\n",
       "      <td>2.507632</td>\n",
       "      <td>4</td>\n",
       "    </tr>\n",
       "  </tbody>\n",
       "</table>\n",
       "</div>"
      ],
      "text/plain": [
       "        Dato  Inflationsforecast  Horizon\n",
       "0 2025-01-01            1.882114        0\n",
       "1 2025-02-01            2.359884        1\n",
       "2 2025-03-01            2.309951        2\n",
       "3 2025-04-01            2.191872        3\n",
       "4 2025-05-01            2.507632        4"
      ]
     },
     "execution_count": 15,
     "metadata": {},
     "output_type": "execute_result"
    }
   ],
   "source": [
    "forecast_df"
   ]
  },
  {
   "cell_type": "markdown",
   "id": "7ca4f8c8-a002-4e1c-b24d-716701335db8",
   "metadata": {},
   "source": [
    "# rolling"
   ]
  },
  {
   "cell_type": "code",
   "execution_count": 17,
   "id": "65401095-3a44-457d-a95a-86d52065afc5",
   "metadata": {},
   "outputs": [],
   "source": [
    "def lasso_forecast_rolling(X, y, forecast_horizon, last_observation_date, scaler, window_length=108, verbose=True):\n",
    "    \"\"\"\n",
    "    Forecast inflation using one Random Forest model per horizon (direct forecast), based on Garcia et al. (2017)\n",
    "    \n",
    "    Args:\n",
    "        X: DataFrame of predictors\n",
    "        y: Series of target variable\n",
    "        forecast_horizon: int, how many steps ahead to forecast (e.g. 12)\n",
    "        last_observation_date: str or Timestamp, end of training data and point of forecast\n",
    "        scaler: a fitted sklearn scaler (no data leakage!)\n",
    "        window_length: int, number of time steps in rolling window (default 108 = 9 years of monthly data)\n",
    "    \"\"\"\n",
    "\n",
    "    # 1. Begræns datasættet til kun at inkludere real-time tilgængelige observationer (op til last_observation_date)\n",
    "    X = X.loc[:last_observation_date]\n",
    "    y = y.loc[:last_observation_date]\n",
    "\n",
    "    # 2. Definér rolling window\n",
    "    if len(X) < window_length:\n",
    "        raise ValueError(\"Not enough data for the chosen rolling window length.\")\n",
    "    \n",
    "    X_window = X.iloc[-window_length:]\n",
    "    y_window = y.iloc[-window_length:]\n",
    "\n",
    "    # 3. Træn en model per horisont (direct forecast approach)\n",
    "    lasso_models = {}\n",
    "\n",
    "    for h in range(forecast_horizon):\n",
    "        if verbose: \n",
    "            print(f\"\\n=== Horisont h={h+1} ===\")\n",
    "        \n",
    "        # Laver y_{t+h}\n",
    "        y_shifted = y_window.shift(-h).dropna()\n",
    "\n",
    "        # Matcher X til y\n",
    "        X_train = X_window.iloc[:len(y_shifted)]\n",
    "        y_train = y_shifted\n",
    "        \n",
    "        tscv = TimeSeriesSplit(n_splits=4)\n",
    "        alphas = np.logspace(-4, 1, 100)  # Fra 0.0001 til 10\n",
    "        model = LassoCV(alphas=alphas, cv=tscv, max_iter=100000)\n",
    "\n",
    "        model.fit(scaler.transform(X_train), y_train)\n",
    "\n",
    "        lasso_models[h] = model\n",
    "\n",
    "        #coef = model.coef_\n",
    "      \n",
    "        if verbose: \n",
    "            print(f\"Antal træningsobservationer: {len(y_train)}\")\n",
    "            print(f\"Valgt alpha: {model.alpha_:.5f}\")\n",
    "            print(f\"0-koeff = {np.sum(model.coef_ == 0)}, ≠0-koeff = {np.sum(model.coef_ != 0)}\")\n",
    "            \n",
    "\n",
    "    # 4. Lav forecast fra X_t (real-time available data)\n",
    "    X_t = X.loc[[last_observation_date]]  # Real-time input\n",
    "    X_t_scaled = scaler.transform(X_t)\n",
    "\n",
    "    lasso_forecasts = {}\n",
    "\n",
    "    for h in range(forecast_horizon):\n",
    "        forecast = lasso_models[h].predict(X_t_scaled)\n",
    "        lasso_forecasts[h] = forecast[0]  # Gem som float\n",
    "\n",
    "    # 5. Generér datoer\n",
    "    start_date = pd.to_datetime(last_observation_date) + pd.DateOffset(months=1)\n",
    "    forecast_dates = [start_date + pd.DateOffset(months=h) for h in lasso_forecasts.keys()]\n",
    "\n",
    "    forecast_df = pd.DataFrame({\n",
    "        \"Dato\": forecast_dates,\n",
    "        \"Inflationsforecast\": list(lasso_forecasts.values()),\n",
    "        \"Horizon\": list(lasso_forecasts.keys())\n",
    "    })\n",
    "\n",
    "    if verbose: \n",
    "        print(\"\\nForudsagte måneder:\")\n",
    "        for date in forecast_dates:\n",
    "            print(date.strftime(\"%Y-%m\"))\n",
    "\n",
    "    return forecast_df"
   ]
  },
  {
   "cell_type": "code",
   "execution_count": 18,
   "id": "1241c342-eb40-486d-a1a9-244607e6fa9b",
   "metadata": {},
   "outputs": [
    {
     "name": "stdout",
     "output_type": "stream",
     "text": [
      "\n",
      "=== Horisont h=1 ===\n",
      "Antal træningsobservationer: 108\n",
      "Valgt alpha: 0.00036\n",
      "0-koeff = 137, ≠0-koeff = 46\n",
      "\n",
      "=== Horisont h=2 ===\n",
      "Antal træningsobservationer: 107\n",
      "Valgt alpha: 0.00327\n",
      "0-koeff = 132, ≠0-koeff = 51\n",
      "\n",
      "=== Horisont h=3 ===\n",
      "Antal træningsobservationer: 106\n",
      "Valgt alpha: 0.00115\n",
      "0-koeff = 119, ≠0-koeff = 64\n",
      "\n",
      "Forudsagte måneder:\n",
      "2025-01\n",
      "2025-02\n",
      "2025-03\n",
      "CPU times: user 22 s, sys: 1min, total: 1min 22s\n",
      "Wall time: 9.21 s\n"
     ]
    }
   ],
   "source": [
    "forecast_horizon = 3 # 1 year\n",
    "window_length = 9*12 # 12 Years\n",
    "last_observation_date = \"2024-12-01\"\n",
    "\n",
    "%time forecast_df = lasso_forecast_rolling(X, y, forecast_horizon, last_observation_date, scaler, window_length, verbose = True)"
   ]
  },
  {
   "cell_type": "code",
   "execution_count": 19,
   "id": "04a309fb-3ebe-4f97-abaf-fbde850d810c",
   "metadata": {},
   "outputs": [
    {
     "data": {
      "text/html": [
       "<div>\n",
       "<style scoped>\n",
       "    .dataframe tbody tr th:only-of-type {\n",
       "        vertical-align: middle;\n",
       "    }\n",
       "\n",
       "    .dataframe tbody tr th {\n",
       "        vertical-align: top;\n",
       "    }\n",
       "\n",
       "    .dataframe thead th {\n",
       "        text-align: right;\n",
       "    }\n",
       "</style>\n",
       "<table border=\"1\" class=\"dataframe\">\n",
       "  <thead>\n",
       "    <tr style=\"text-align: right;\">\n",
       "      <th></th>\n",
       "      <th>Dato</th>\n",
       "      <th>Inflationsforecast</th>\n",
       "      <th>Horizon</th>\n",
       "    </tr>\n",
       "  </thead>\n",
       "  <tbody>\n",
       "    <tr>\n",
       "      <th>0</th>\n",
       "      <td>2025-01-01</td>\n",
       "      <td>1.874613</td>\n",
       "      <td>0</td>\n",
       "    </tr>\n",
       "    <tr>\n",
       "      <th>1</th>\n",
       "      <td>2025-02-01</td>\n",
       "      <td>2.076937</td>\n",
       "      <td>1</td>\n",
       "    </tr>\n",
       "    <tr>\n",
       "      <th>2</th>\n",
       "      <td>2025-03-01</td>\n",
       "      <td>1.947104</td>\n",
       "      <td>2</td>\n",
       "    </tr>\n",
       "  </tbody>\n",
       "</table>\n",
       "</div>"
      ],
      "text/plain": [
       "        Dato  Inflationsforecast  Horizon\n",
       "0 2025-01-01            1.874613        0\n",
       "1 2025-02-01            2.076937        1\n",
       "2 2025-03-01            1.947104        2"
      ]
     },
     "execution_count": 19,
     "metadata": {},
     "output_type": "execute_result"
    }
   ],
   "source": [
    "forecast_df"
   ]
  },
  {
   "cell_type": "markdown",
   "id": "0e7f1f5b-2f42-463e-b772-46d3fa8f1d9e",
   "metadata": {},
   "source": [
    "# Rolling Forecast"
   ]
  },
  {
   "cell_type": "code",
   "execution_count": 21,
   "id": "d3a75735-2411-45fa-8183-2fd8f6581621",
   "metadata": {},
   "outputs": [],
   "source": [
    "def run_rolling_forecast(X, y, forecast_horizon=12, start_date=\"2012-01\", end_date=\"2015-12\", window_length=72):\n",
    "    \"\"\"\n",
    "    Kører rolling real-time forecast med Random Forest, én forecast per måned (med 12 horisonter per gang)\n",
    "    \"\"\"\n",
    "\n",
    "    all_forecasts = []\n",
    "\n",
    "    forecast_dates = pd.date_range(start=start_date, end=end_date, freq=\"MS\")\n",
    "\n",
    "    for date in forecast_dates:\n",
    "        print(f\"\\n=== Forecast lavet i: {date.strftime('%Y-%m')} ===\")\n",
    "\n",
    "        # Real-time datasæt\n",
    "        X_train = X.loc[:date]\n",
    "        y_train = y.loc[:date]\n",
    "\n",
    "        if len(X_train) < window_length:\n",
    "            print(\"Springer over pga. for lidt data.\")\n",
    "            continue\n",
    "\n",
    "        # Skaler træningsdata (rolling window)\n",
    "        scaler = StandardScaler()\n",
    "        scaler.fit(X_train.iloc[-window_length:])\n",
    "\n",
    "        # Lav forecast for 12 horisonter\n",
    "        forecast_df = lasso_forecast_rolling(\n",
    "            X=X,\n",
    "            y=y,\n",
    "            forecast_horizon=forecast_horizon,\n",
    "            last_observation_date=date,\n",
    "            scaler=scaler,\n",
    "            window_length=window_length, \n",
    "            verbose=False\n",
    "        )\n",
    "\n",
    "        forecast_df[\"Forecast_made_in\"] = date  # hvornår forecast blev lavet\n",
    "        all_forecasts.append(forecast_df)\n",
    "\n",
    "    all_forecasts_df = pd.concat(all_forecasts, ignore_index=True)\n",
    "    return all_forecasts_df"
   ]
  },
  {
   "cell_type": "code",
   "execution_count": null,
   "id": "1a5d20b7-177d-4089-9743-797c2ebf91e6",
   "metadata": {},
   "outputs": [
    {
     "name": "stdout",
     "output_type": "stream",
     "text": [
      "\n",
      "=== Forecast lavet i: 2022-01 ===\n",
      "\n",
      "=== Forecast lavet i: 2022-02 ===\n",
      "\n",
      "=== Forecast lavet i: 2022-03 ===\n",
      "\n",
      "=== Forecast lavet i: 2022-04 ===\n",
      "\n",
      "=== Forecast lavet i: 2022-05 ===\n"
     ]
    }
   ],
   "source": [
    "forecast_results = run_rolling_forecast(X, y, forecast_horizon=12, start_date=\"2022-01-01\", end_date=\"2024-12-01\")"
   ]
  },
  {
   "cell_type": "code",
   "execution_count": null,
   "id": "7178512b-6138-4e38-96f3-9b94cc9e7b77",
   "metadata": {},
   "outputs": [],
   "source": [
    "forecast_results"
   ]
  },
  {
   "cell_type": "code",
   "execution_count": null,
   "id": "db9e5857-85f2-46f2-881e-b1faac52bd49",
   "metadata": {},
   "outputs": [],
   "source": [
    "def evaluate_forecasts(forecast_df, y):\n",
    "    \"\"\"\n",
    "    Matcher forecast med y_true og returnerer RMSE og MAE pr. horisont\n",
    "    \"\"\"\n",
    "    # Merge forecast og faktisk inflation\n",
    "    merged = forecast_df.merge(\n",
    "        y.rename(\"y_true\"), \n",
    "        left_on=\"Dato\", \n",
    "        right_index=True,\n",
    "        how=\"left\"\n",
    "    )\n",
    "\n",
    "    # Filtrer ud fremtid hvor vi ikke har faktisk inflation\n",
    "    merged = merged.dropna(subset=[\"y_true\"])\n",
    "\n",
    "    # Beregn fejl\n",
    "    merged[\"error\"] = merged[\"Inflationsforecast\"] - merged[\"y_true\"]\n",
    "    merged[\"abs_error\"] = merged[\"error\"].abs()\n",
    "    merged[\"squared_error\"] = merged[\"error\"] ** 2\n",
    "\n",
    "    # Evaluer pr. horisont\n",
    "    evaluation = merged.groupby(\"Horizon\").agg(\n",
    "        MAE=(\"abs_error\", \"mean\"),\n",
    "        RMSE=(\"squared_error\", lambda x: (x.mean())**0.5),\n",
    "        N_obs=(\"y_true\", \"count\")\n",
    "    ).reset_index()\n",
    "\n",
    "    return evaluation, merged\n"
   ]
  },
  {
   "cell_type": "code",
   "execution_count": null,
   "id": "b3b1cbc2-2364-499f-8fbe-31d939c3dea3",
   "metadata": {},
   "outputs": [],
   "source": [
    "eval_df, merged_df = evaluate_forecasts(forecast_results, y)\n",
    "eval_df"
   ]
  },
  {
   "cell_type": "code",
   "execution_count": null,
   "id": "49d58d45-69ba-407e-acf9-8b444734b8ae",
   "metadata": {},
   "outputs": [],
   "source": [
    "h1 = merged_df[merged_df[\"Horizon\"] == 0]\n",
    "h1"
   ]
  },
  {
   "cell_type": "code",
   "execution_count": null,
   "id": "2bf7d9e0-0363-4d1d-af0c-c7a3704dadf0",
   "metadata": {},
   "outputs": [],
   "source": [
    "plt.figure(figsize=(10, 5))\n",
    "plt.plot(h1[\"Dato\"], h1[\"y_true\"], label=\"Faktisk\", marker=\"o\")\n",
    "plt.plot(h1[\"Dato\"], h1[\"Inflationsforecast\"], label=\"Forecast (h=1)\", marker=\"x\")\n",
    "plt.legend()\n",
    "plt.title(\"Forecast vs Faktisk Inflation (h=1)\")\n",
    "plt.grid(True)\n",
    "plt.tight_layout()\n",
    "plt.show()"
   ]
  },
  {
   "cell_type": "code",
   "execution_count": null,
   "id": "6b9e4aa8-a50b-4da7-af4e-3e08d11af042",
   "metadata": {},
   "outputs": [],
   "source": []
  }
 ],
 "metadata": {
  "kernelspec": {
   "display_name": "Python 3 (ipykernel)",
   "language": "python",
   "name": "python3"
  },
  "language_info": {
   "codemirror_mode": {
    "name": "ipython",
    "version": 3
   },
   "file_extension": ".py",
   "mimetype": "text/x-python",
   "name": "python",
   "nbconvert_exporter": "python",
   "pygments_lexer": "ipython3",
   "version": "3.9.18"
  }
 },
 "nbformat": 4,
 "nbformat_minor": 5
}
