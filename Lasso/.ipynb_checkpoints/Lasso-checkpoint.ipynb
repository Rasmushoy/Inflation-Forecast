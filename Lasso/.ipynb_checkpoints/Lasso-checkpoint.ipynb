{
 "cells": [
  {
   "cell_type": "code",
   "execution_count": 1,
   "id": "48e28a0a-7894-49a6-9c4e-3c9c2f263451",
   "metadata": {},
   "outputs": [],
   "source": [
    "import os\n",
    "import getpass\n",
    "import numpy as np\n",
    "import pandas as pd\n",
    "from time import time\n",
    "from functools import reduce\n",
    "import matplotlib.pyplot as plt\n",
    "\n",
    "# Sklearn\n",
    "from sklearn.impute import SimpleImputer\n",
    "from sklearn.linear_model import LassoCV\n",
    "from sklearn.preprocessing import StandardScaler\n",
    "from sklearn.model_selection import train_test_split, TimeSeriesSplit\n",
    "from sklearn.metrics import mean_squared_error, r2_score, mean_absolute_error\n",
    "\n",
    "# Own lasso Liberay\n",
    "import lasso_model "
   ]
  },
  {
   "cell_type": "markdown",
   "id": "1e425613-643a-4691-92cd-83428b4ba502",
   "metadata": {},
   "source": [
    "# Data proces"
   ]
  },
  {
   "cell_type": "code",
   "execution_count": 3,
   "id": "db57a658-4772-40bd-9346-c966f9a3d0f2",
   "metadata": {},
   "outputs": [],
   "source": [
    "# Gå et niveau op og naviger til mappen \"Data\"\n",
    "os.chdir('../Data')\n"
   ]
  },
  {
   "cell_type": "markdown",
   "id": "30b3ee2e-b2f7-40a6-805b-7c773011192d",
   "metadata": {
    "tags": []
   },
   "source": [
    "## 1. Load data"
   ]
  },
  {
   "cell_type": "code",
   "execution_count": 5,
   "id": "9d2f855b-2af0-48cc-8578-b4fb847abbc2",
   "metadata": {},
   "outputs": [
    {
     "data": {
      "text/plain": [
       "(156, 184)"
      ]
     },
     "execution_count": 5,
     "metadata": {},
     "output_type": "execute_result"
    }
   ],
   "source": [
    "# Import features\n",
    "file_path = 'Merged_dataset.csv'\n",
    "df = pd.read_csv(\"merged_dataset.csv\", sep=\";\", parse_dates=[\"Date\"])\n",
    "df.set_index(\"Date\", inplace=True)\n",
    "df.shape"
   ]
  },
  {
   "cell_type": "code",
   "execution_count": 6,
   "id": "224fba3e-2c07-44bb-bd41-2fb5780fdbc6",
   "metadata": {},
   "outputs": [
    {
     "name": "stdout",
     "output_type": "stream",
     "text": [
      "y shape: (156,)\n",
      "X shape: (156, 183)\n"
     ]
    }
   ],
   "source": [
    "y = df.iloc[:, 0]   # første kolonne = inflation\n",
    "X = df.iloc[:, 1:]  # resten = forklarende variable\n",
    "\n",
    "# Tjek dimensioner\n",
    "print(\"y shape:\", y.shape)\n",
    "print(\"X shape:\", X.shape)"
   ]
  },
  {
   "cell_type": "markdown",
   "id": "81280f00-ed54-4859-9270-0ccb1058a7e6",
   "metadata": {},
   "source": [
    "## 2. Imputer manglende værdier"
   ]
  },
  {
   "cell_type": "code",
   "execution_count": 8,
   "id": "b12d35d7-26f5-4151-aed7-d14c85478df3",
   "metadata": {},
   "outputs": [],
   "source": [
    "imputer = SimpleImputer(strategy=\"median\")  # Eller \"median\"\n",
    "\n",
    "X_imputed = imputer.fit_transform(X)  # Imputer NaN i hele datasættet\n",
    "\n",
    "# Konverter tilbage til DataFrame med kolonnenavne\n",
    "X = pd.DataFrame(X_imputed, columns=X.columns, index = df.index)"
   ]
  },
  {
   "cell_type": "markdown",
   "id": "781ce81d-c553-4d3d-a189-af39910a889c",
   "metadata": {
    "tags": []
   },
   "source": [
    "## 3. Standardiser data "
   ]
  },
  {
   "cell_type": "code",
   "execution_count": 10,
   "id": "c782abdc-ebe3-4263-9ff4-c5976014365e",
   "metadata": {},
   "outputs": [],
   "source": [
    "scaler = StandardScaler()\n",
    "X_scaled = scaler.fit_transform(X)"
   ]
  },
  {
   "cell_type": "markdown",
   "id": "dbf6a24a-e645-460b-963f-8f695ea24fa4",
   "metadata": {},
   "source": [
    "# Forecast, h periods ahead"
   ]
  },
  {
   "cell_type": "code",
   "execution_count": 53,
   "id": "ff39608d-0c1c-405c-b6bb-e832cbce3a3c",
   "metadata": {},
   "outputs": [],
   "source": [
    "def lasso_forecast(X, y, last_observation_date, forecast_horizon=12, plot=False):\n",
    "    \"\"\"\n",
    "    Træner en LASSO-model til forecasting og forudsiger inflation op til forecast_horizon måneder frem.\n",
    "    \n",
    "    Parametre:\n",
    "        X: pd.DataFrame – features\n",
    "        y: pd.Series – target (inflation)\n",
    "        last_observation_date: str – f.eks. '2024-12-01'\n",
    "        forecast_horizon: int – antal måneder frem\n",
    "        plot: bool – om der skal vises plot\n",
    "    \n",
    "    Returnerer:\n",
    "        forecast_df: pd.DataFrame med datoer og forudsagte værdier\n",
    "    \"\"\"\n",
    "    # 1. Skalering\n",
    "    scaler = StandardScaler()\n",
    "    X_scaled = scaler.fit_transform(X)\n",
    "    \n",
    "    # 2. Træn modeller for 1 til forecast_horizon måneder frem\n",
    "    lasso_models = {}\n",
    "\n",
    "    #for h in range(1, forecast_horizon + 1):\n",
    "    for h in range(0, forecast_horizon):\n",
    "        print(f\"\\n=== Horizon {h} ===\")\n",
    "\n",
    "       \n",
    "        y_shifted = y.shift(-h).dropna()\n",
    "        X_train = X_scaled[:len(y_shifted), :]\n",
    "        y_train = y_shifted\n",
    "        \n",
    "        #print(y_shifted)\n",
    "        \n",
    "        tscv = TimeSeriesSplit(n_splits=4)\n",
    "        alphas = np.logspace(-4, 1, 100)  # Fra 0.0001 til 10\n",
    "        model = LassoCV(alphas=alphas, cv=tscv, max_iter=100000)\n",
    "\n",
    "    \n",
    "        #model = LassoCV(cv=tscv, random_state=42, max_iter=100000)\n",
    "        #model = LassoCV(cv=5, random_state=42, max_iter=100000)\n",
    "        model.fit(X_train, y_train)\n",
    "        lasso_models[h] = model\n",
    "        \n",
    "        coef = model.coef_\n",
    "        print(f\"Antal træningsobservationer: {len(y_train)}\")\n",
    "        print(f\"Valgt alpha: {model.alpha_:.5f}\")\n",
    "        print(f\"0-koeff = {np.sum(coef == 0)}, ≠0-koeff = {np.sum(coef != 0)}\")\n",
    "    \n",
    "    # 3. Forudsig fremtiden\n",
    "    latest_data = X.iloc[[-1]] \n",
    "    latest_data_scaled = scaler.transform(latest_data)\n",
    "    \n",
    "    \n",
    "\n",
    "    forecasts = {}\n",
    "\n",
    "    for h in range(0, forecast_horizon):\n",
    "        forecast_value = lasso_models[h].predict(latest_data_scaled)[0]\n",
    "        forecasts[h] = forecast_value\n",
    "\n",
    "    # 4. Datoetiketter\n",
    "    start_date = pd.to_datetime(last_observation_date) + pd.DateOffset(months=1)\n",
    "    forecast_dates = [start_date + pd.DateOffset(months=h) for h in forecasts.keys()]\n",
    "\n",
    "    # 👇 Print datoer for de forudsagte måneder\n",
    "    print(\"\\nForudsagte måneder:\")\n",
    "    for date in forecast_dates:\n",
    "        print(date.strftime(\"%Y-%m\"))\n",
    "        \n",
    "        \n",
    "    forecast_df = pd.DataFrame({\n",
    "        \"Dato\": forecast_dates,\n",
    "        \"Inflationsforecast\": list(forecasts.values())\n",
    "    })\n",
    "\n",
    "    # 5. Plot (valgfrit)\n",
    "    if plot:\n",
    "        plt.figure(figsize=(10, 5))\n",
    "        plt.plot(forecast_df[\"Dato\"], forecast_df[\"Inflationsforecast\"], marker=\"o\", linestyle=\"--\")\n",
    "        plt.xlabel(\"Måned\")\n",
    "        plt.ylabel(\"Forventet inflation (%)\")\n",
    "        plt.title(\"LASSO Forecast for Inflation\")\n",
    "        plt.grid(True)\n",
    "        plt.xticks(rotation=45)\n",
    "        plt.tight_layout()\n",
    "        plt.show()\n",
    "    \n",
    "    return forecast_df\n"
   ]
  },
  {
   "cell_type": "code",
   "execution_count": 55,
   "id": "6fe701f0-e66c-47ef-9f41-b5748f2e8e84",
   "metadata": {},
   "outputs": [
    {
     "name": "stdout",
     "output_type": "stream",
     "text": [
      "\n",
      "=== Horizon 0 ===\n",
      "Antal træningsobservationer: 156\n",
      "Valgt alpha: 0.00010\n",
      "0-koeff = 139, ≠0-koeff = 44\n",
      "\n",
      "=== Horizon 1 ===\n",
      "Antal træningsobservationer: 155\n",
      "Valgt alpha: 0.00231\n",
      "0-koeff = 128, ≠0-koeff = 55\n",
      "\n",
      "=== Horizon 2 ===\n",
      "Antal træningsobservationer: 154\n",
      "Valgt alpha: 0.07565\n",
      "0-koeff = 167, ≠0-koeff = 16\n",
      "\n",
      "=== Horizon 3 ===\n",
      "Antal træningsobservationer: 153\n",
      "Valgt alpha: 0.17074\n",
      "0-koeff = 171, ≠0-koeff = 12\n",
      "\n",
      "=== Horizon 4 ===\n",
      "Antal træningsobservationer: 152\n",
      "Valgt alpha: 0.15199\n",
      "0-koeff = 166, ≠0-koeff = 17\n",
      "\n",
      "Forudsagte måneder:\n",
      "2025-01\n",
      "2025-02\n",
      "2025-03\n",
      "2025-04\n",
      "2025-05\n",
      "CPU times: user 2min 52s, sys: 6min 52s, total: 9min 45s\n",
      "Wall time: 1min 2s\n"
     ]
    }
   ],
   "source": [
    "%time forecast_df = lasso_forecast(X, y, last_observation_date=\"2024-12-01\", forecast_horizon=5)"
   ]
  },
  {
   "cell_type": "code",
   "execution_count": 56,
   "id": "e7a74ced-cbb9-4044-a36f-911c086cd859",
   "metadata": {},
   "outputs": [
    {
     "data": {
      "text/html": [
       "<div>\n",
       "<style scoped>\n",
       "    .dataframe tbody tr th:only-of-type {\n",
       "        vertical-align: middle;\n",
       "    }\n",
       "\n",
       "    .dataframe tbody tr th {\n",
       "        vertical-align: top;\n",
       "    }\n",
       "\n",
       "    .dataframe thead th {\n",
       "        text-align: right;\n",
       "    }\n",
       "</style>\n",
       "<table border=\"1\" class=\"dataframe\">\n",
       "  <thead>\n",
       "    <tr style=\"text-align: right;\">\n",
       "      <th></th>\n",
       "      <th>Dato</th>\n",
       "      <th>Inflationsforecast</th>\n",
       "    </tr>\n",
       "  </thead>\n",
       "  <tbody>\n",
       "    <tr>\n",
       "      <th>0</th>\n",
       "      <td>2025-01-01</td>\n",
       "      <td>1.882114</td>\n",
       "    </tr>\n",
       "    <tr>\n",
       "      <th>1</th>\n",
       "      <td>2025-02-01</td>\n",
       "      <td>2.359884</td>\n",
       "    </tr>\n",
       "    <tr>\n",
       "      <th>2</th>\n",
       "      <td>2025-03-01</td>\n",
       "      <td>2.309951</td>\n",
       "    </tr>\n",
       "    <tr>\n",
       "      <th>3</th>\n",
       "      <td>2025-04-01</td>\n",
       "      <td>2.191872</td>\n",
       "    </tr>\n",
       "    <tr>\n",
       "      <th>4</th>\n",
       "      <td>2025-05-01</td>\n",
       "      <td>2.507632</td>\n",
       "    </tr>\n",
       "  </tbody>\n",
       "</table>\n",
       "</div>"
      ],
      "text/plain": [
       "        Dato  Inflationsforecast\n",
       "0 2025-01-01            1.882114\n",
       "1 2025-02-01            2.359884\n",
       "2 2025-03-01            2.309951\n",
       "3 2025-04-01            2.191872\n",
       "4 2025-05-01            2.507632"
      ]
     },
     "execution_count": 56,
     "metadata": {},
     "output_type": "execute_result"
    }
   ],
   "source": [
    "forecast_df"
   ]
  },
  {
   "cell_type": "markdown",
   "id": "9d57276b-1134-40ef-a93a-da3248ae40c8",
   "metadata": {},
   "source": [
    "# Out of bag estimation"
   ]
  },
  {
   "cell_type": "code",
   "execution_count": 16,
   "id": "a1b70c26-9e22-4df1-9ddb-0a9e5b32a53d",
   "metadata": {},
   "outputs": [
    {
     "name": "stdout",
     "output_type": "stream",
     "text": [
      "(60, 183)\n",
      "(60,)\n"
     ]
    }
   ],
   "source": [
    "# Definér dato for split\n",
    "split_date = \"2016-12-01\"\n",
    "forecast_horizon = 8\n",
    "\n",
    "# Træk træningsdata\n",
    "X_split = X.loc[:split_date]\n",
    "y_split = y.loc[:split_date]\n",
    "print(X_split.shape)\n",
    "print(y_split.shape)\n"
   ]
  },
  {
   "cell_type": "code",
   "execution_count": 17,
   "id": "04f0c217-2ee3-45a3-a40a-66d977fca077",
   "metadata": {},
   "outputs": [
    {
     "name": "stdout",
     "output_type": "stream",
     "text": [
      "\n",
      "=== Horizon 0 ===\n",
      "Antal træningsobservationer: 60\n",
      "Valgt alpha: 0.01668\n",
      "0-koeff = 170, ≠0-koeff = 13\n",
      "\n",
      "=== Horizon 1 ===\n",
      "Antal træningsobservationer: 59\n",
      "Valgt alpha: 0.01048\n",
      "0-koeff = 159, ≠0-koeff = 24\n",
      "\n",
      "=== Horizon 2 ===\n",
      "Antal træningsobservationer: 58\n",
      "Valgt alpha: 0.00102\n",
      "0-koeff = 130, ≠0-koeff = 53\n",
      "\n",
      "=== Horizon 3 ===\n",
      "Antal træningsobservationer: 57\n",
      "Valgt alpha: 0.00521\n",
      "0-koeff = 145, ≠0-koeff = 38\n",
      "\n",
      "=== Horizon 4 ===\n",
      "Antal træningsobservationer: 56\n",
      "Valgt alpha: 0.01874\n",
      "0-koeff = 166, ≠0-koeff = 17\n",
      "\n",
      "=== Horizon 5 ===\n",
      "Antal træningsobservationer: 55\n",
      "Valgt alpha: 0.10723\n",
      "0-koeff = 176, ≠0-koeff = 7\n",
      "\n",
      "=== Horizon 6 ===\n",
      "Antal træningsobservationer: 54\n",
      "Valgt alpha: 0.10723\n",
      "0-koeff = 176, ≠0-koeff = 7\n",
      "\n",
      "=== Horizon 7 ===\n",
      "Antal træningsobservationer: 53\n",
      "Valgt alpha: 0.07565\n",
      "0-koeff = 178, ≠0-koeff = 5\n",
      "\n",
      "Forudsagte måneder:\n",
      "2017-01\n",
      "2017-02\n",
      "2017-03\n",
      "2017-04\n",
      "2017-05\n",
      "2017-06\n",
      "2017-07\n",
      "2017-08\n"
     ]
    }
   ],
   "source": [
    "# Forecast\n",
    "forecast_df = lasso_forecast(X_split, y_split, split_date, forecast_horizon)"
   ]
  },
  {
   "cell_type": "code",
   "execution_count": 18,
   "id": "e1cf26ea-6165-4e72-abd4-2847205eb193",
   "metadata": {},
   "outputs": [
    {
     "data": {
      "text/html": [
       "<div>\n",
       "<style scoped>\n",
       "    .dataframe tbody tr th:only-of-type {\n",
       "        vertical-align: middle;\n",
       "    }\n",
       "\n",
       "    .dataframe tbody tr th {\n",
       "        vertical-align: top;\n",
       "    }\n",
       "\n",
       "    .dataframe thead th {\n",
       "        text-align: right;\n",
       "    }\n",
       "</style>\n",
       "<table border=\"1\" class=\"dataframe\">\n",
       "  <thead>\n",
       "    <tr style=\"text-align: right;\">\n",
       "      <th></th>\n",
       "      <th>Dato</th>\n",
       "      <th>Inflationsforecast</th>\n",
       "    </tr>\n",
       "  </thead>\n",
       "  <tbody>\n",
       "    <tr>\n",
       "      <th>0</th>\n",
       "      <td>2017-01-01</td>\n",
       "      <td>0.423993</td>\n",
       "    </tr>\n",
       "    <tr>\n",
       "      <th>1</th>\n",
       "      <td>2017-02-01</td>\n",
       "      <td>0.539891</td>\n",
       "    </tr>\n",
       "    <tr>\n",
       "      <th>2</th>\n",
       "      <td>2017-03-01</td>\n",
       "      <td>0.581279</td>\n",
       "    </tr>\n",
       "    <tr>\n",
       "      <th>3</th>\n",
       "      <td>2017-04-01</td>\n",
       "      <td>-0.189447</td>\n",
       "    </tr>\n",
       "    <tr>\n",
       "      <th>4</th>\n",
       "      <td>2017-05-01</td>\n",
       "      <td>0.278973</td>\n",
       "    </tr>\n",
       "    <tr>\n",
       "      <th>5</th>\n",
       "      <td>2017-06-01</td>\n",
       "      <td>0.532369</td>\n",
       "    </tr>\n",
       "    <tr>\n",
       "      <th>6</th>\n",
       "      <td>2017-07-01</td>\n",
       "      <td>0.491054</td>\n",
       "    </tr>\n",
       "    <tr>\n",
       "      <th>7</th>\n",
       "      <td>2017-08-01</td>\n",
       "      <td>0.504648</td>\n",
       "    </tr>\n",
       "  </tbody>\n",
       "</table>\n",
       "</div>"
      ],
      "text/plain": [
       "        Dato  Inflationsforecast\n",
       "0 2017-01-01            0.423993\n",
       "1 2017-02-01            0.539891\n",
       "2 2017-03-01            0.581279\n",
       "3 2017-04-01           -0.189447\n",
       "4 2017-05-01            0.278973\n",
       "5 2017-06-01            0.532369\n",
       "6 2017-07-01            0.491054\n",
       "7 2017-08-01            0.504648"
      ]
     },
     "execution_count": 18,
     "metadata": {},
     "output_type": "execute_result"
    }
   ],
   "source": [
    "forecast_df"
   ]
  },
  {
   "cell_type": "code",
   "execution_count": 19,
   "id": "56cd5c1f-c95b-4d74-8487-2e0a2cfad918",
   "metadata": {},
   "outputs": [],
   "source": [
    "forecast_dates = forecast_df[\"Dato\"]\n",
    "y_true = y.loc[y.index.isin(forecast_dates)].rename(\"y_true\")"
   ]
  },
  {
   "cell_type": "code",
   "execution_count": 20,
   "id": "81c72498-4ca8-4db7-acd3-a510939a1b81",
   "metadata": {},
   "outputs": [
    {
     "data": {
      "text/html": [
       "<div>\n",
       "<style scoped>\n",
       "    .dataframe tbody tr th:only-of-type {\n",
       "        vertical-align: middle;\n",
       "    }\n",
       "\n",
       "    .dataframe tbody tr th {\n",
       "        vertical-align: top;\n",
       "    }\n",
       "\n",
       "    .dataframe thead th {\n",
       "        text-align: right;\n",
       "    }\n",
       "</style>\n",
       "<table border=\"1\" class=\"dataframe\">\n",
       "  <thead>\n",
       "    <tr style=\"text-align: right;\">\n",
       "      <th></th>\n",
       "      <th>Dato</th>\n",
       "      <th>Inflationsforecast</th>\n",
       "      <th>y_true</th>\n",
       "    </tr>\n",
       "  </thead>\n",
       "  <tbody>\n",
       "    <tr>\n",
       "      <th>0</th>\n",
       "      <td>2017-01-01</td>\n",
       "      <td>0.423993</td>\n",
       "      <td>0.905</td>\n",
       "    </tr>\n",
       "    <tr>\n",
       "      <th>1</th>\n",
       "      <td>2017-02-01</td>\n",
       "      <td>0.539891</td>\n",
       "      <td>0.999</td>\n",
       "    </tr>\n",
       "    <tr>\n",
       "      <th>2</th>\n",
       "      <td>2017-03-01</td>\n",
       "      <td>0.581279</td>\n",
       "      <td>0.998</td>\n",
       "    </tr>\n",
       "    <tr>\n",
       "      <th>3</th>\n",
       "      <td>2017-04-01</td>\n",
       "      <td>-0.189447</td>\n",
       "      <td>1.097</td>\n",
       "    </tr>\n",
       "    <tr>\n",
       "      <th>4</th>\n",
       "      <td>2017-05-01</td>\n",
       "      <td>0.278973</td>\n",
       "      <td>0.796</td>\n",
       "    </tr>\n",
       "    <tr>\n",
       "      <th>5</th>\n",
       "      <td>2017-06-01</td>\n",
       "      <td>0.532369</td>\n",
       "      <td>0.596</td>\n",
       "    </tr>\n",
       "    <tr>\n",
       "      <th>6</th>\n",
       "      <td>2017-07-01</td>\n",
       "      <td>0.491054</td>\n",
       "      <td>1.493</td>\n",
       "    </tr>\n",
       "    <tr>\n",
       "      <th>7</th>\n",
       "      <td>2017-08-01</td>\n",
       "      <td>0.504648</td>\n",
       "      <td>1.497</td>\n",
       "    </tr>\n",
       "  </tbody>\n",
       "</table>\n",
       "</div>"
      ],
      "text/plain": [
       "        Dato  Inflationsforecast  y_true\n",
       "0 2017-01-01            0.423993   0.905\n",
       "1 2017-02-01            0.539891   0.999\n",
       "2 2017-03-01            0.581279   0.998\n",
       "3 2017-04-01           -0.189447   1.097\n",
       "4 2017-05-01            0.278973   0.796\n",
       "5 2017-06-01            0.532369   0.596\n",
       "6 2017-07-01            0.491054   1.493\n",
       "7 2017-08-01            0.504648   1.497"
      ]
     },
     "execution_count": 20,
     "metadata": {},
     "output_type": "execute_result"
    }
   ],
   "source": [
    "# Sammenlign\n",
    "comparison = pd.merge(\n",
    "    forecast_df,\n",
    "    y_true,\n",
    "    left_on=\"Dato\",\n",
    "    right_index=True,\n",
    "    how=\"left\"\n",
    ")\n",
    "comparison"
   ]
  },
  {
   "cell_type": "code",
   "execution_count": 21,
   "id": "ab274073-a943-4137-840f-b888813d8f44",
   "metadata": {},
   "outputs": [
    {
     "data": {
      "image/png": "[encoded data removed]",
      "text/plain": [
       "<Figure size 1000x500 with 1 Axes>"
      ]
     },
     "metadata": {},
     "output_type": "display_data"
    }
   ],
   "source": [
    "plt.figure(figsize=(10, 5))\n",
    "plt.plot(forecast_df.index, comparison[\"y_true\"], label=\"Faktisk\")\n",
    "plt.plot(forecast_df.index, comparison[\"Inflationsforecast\"], label=\"Forecast\", linestyle=\"--\")\n",
    "plt.legend()\n",
    "plt.title(f\"LASSO Forecast fra {split_date} ({forecast_horizon} måneder frem)\")\n",
    "plt.grid(True)\n",
    "plt.xticks(rotation=45)\n",
    "plt.tight_layout()\n",
    "plt.show()\n",
    "    "
   ]
  },
  {
   "cell_type": "markdown",
   "id": "fe12ec96-21bd-4b61-b1a7-d25c1211fed0",
   "metadata": {},
   "source": [
    "# Rolling (expanding window) forecast evaluation\n",
    "\n",
    "Her rykker vi træningsvinduet frem måned for måned, gentræner modellen og evaluerer forecastene"
   ]
  },
  {
   "cell_type": "code",
   "execution_count": 23,
   "id": "3ffe8885-0dd0-4304-8d67-3561af86764d",
   "metadata": {},
   "outputs": [],
   "source": [
    "def lasso_oos_forecast(X, y, cutoff_date, forecast_horizon=12, alphas=None, plot=False):\n",
    "    \"\"\"\n",
    "    Laver out-of-sample forecast med LASSO op til forecast_horizon måneder frem fra cutoff_date.\n",
    "    Returnerer en DataFrame med y_pred, y_true og fejl for hver måned.\n",
    "    \"\"\"\n",
    "\n",
    "\n",
    "    # Træningsdata\n",
    "    X_train = X.loc[:cutoff_date]\n",
    "    y_train = y.loc[:cutoff_date]\n",
    "    \n",
    "    # Skær data op\n",
    "    X_train = X.loc[:cutoff_date]\n",
    "    y_train = y.loc[:cutoff_date]\n",
    "  \n",
    "  \n",
    "    X_test = X.loc[cutoff_date:].iloc[1:forecast_horizon+1]  # de næste 12 måneder\n",
    "    y_test = y.loc[cutoff_date:].iloc[1:forecast_horizon+1]\n",
    "\n",
    "    # Skalering\n",
    "    scaler = StandardScaler()\n",
    "    X_train_scaled = scaler.fit_transform(X_train)\n",
    "    X_test_scaled = scaler.transform(X_test)\n",
    "\n",
    "    # LASSO model\n",
    "    tscv = TimeSeriesSplit(n_splits=5)\n",
    "    model = LassoCV(cv=tscv, alphas=alphas, max_iter=10000).fit(X_train_scaled, y_train)\n",
    "\n",
    "    coef = model.coef_\n",
    "    \n",
    "    # Forudsig fremtiden\n",
    "    y_pred = model.predict(X_test_scaled)\n",
    "\n",
    "    # Resultat som DataFrame\n",
    "    forecast_df = pd.DataFrame({\n",
    "        \"Dato\": y_test.index,\n",
    "        \"y_true\": y_test.values,\n",
    "        \"y_pred\": y_pred,\n",
    "        \"fejl\": np.abs(y_pred - y_test.values),\n",
    "        \"alpha\": model.alpha_,\n",
    "         \"n_zero_coef\": np.sum(coef == 0),\n",
    "        \"n_nonzero_coef\": np.sum(coef != 0)\n",
    "    }).set_index(\"Dato\")\n",
    "\n",
    "    # (Valgfrit) plot\n",
    "    if plot:\n",
    "        plt.figure(figsize=(10, 5))\n",
    "        plt.plot(forecast_df.index, forecast_df[\"y_true\"], label=\"Faktisk\")\n",
    "        plt.plot(forecast_df.index, forecast_df[\"y_pred\"], label=\"Forecast\", linestyle=\"--\")\n",
    "        plt.legend()\n",
    "        plt.title(f\"LASSO Forecast fra {cutoff_date} ({forecast_horizon} måneder frem)\")\n",
    "        plt.grid(True)\n",
    "        plt.xticks(rotation=45)\n",
    "        plt.tight_layout()\n",
    "        plt.show()\n",
    "    \n",
    "    return forecast_df\n"
   ]
  },
  {
   "cell_type": "code",
   "execution_count": 24,
   "id": "21c6cb6e-bc4c-47d3-91d4-1dbf860d7cfd",
   "metadata": {},
   "outputs": [
    {
     "data": {
      "image/png": "[encoded data removed]",
      "text/plain": [
       "<Figure size 1000x500 with 1 Axes>"
      ]
     },
     "metadata": {},
     "output_type": "display_data"
    },
    {
     "name": "stdout",
     "output_type": "stream",
     "text": [
      "MAE: 0.30302319404887673\n"
     ]
    }
   ],
   "source": [
    "forecast_df = lasso_oos_forecast(X, y, cutoff_date='2023-12-01', forecast_horizon=12, plot=True)\n",
    "print(\"MAE:\", forecast_df[\"fejl\"].mean())\n"
   ]
  },
  {
   "cell_type": "code",
   "execution_count": 25,
   "id": "4eb8fc9e-61e1-4122-9ef1-bf86353a7b4a",
   "metadata": {},
   "outputs": [
    {
     "data": {
      "text/html": [
       "<div>\n",
       "<style scoped>\n",
       "    .dataframe tbody tr th:only-of-type {\n",
       "        vertical-align: middle;\n",
       "    }\n",
       "\n",
       "    .dataframe tbody tr th {\n",
       "        vertical-align: top;\n",
       "    }\n",
       "\n",
       "    .dataframe thead th {\n",
       "        text-align: right;\n",
       "    }\n",
       "</style>\n",
       "<table border=\"1\" class=\"dataframe\">\n",
       "  <thead>\n",
       "    <tr style=\"text-align: right;\">\n",
       "      <th></th>\n",
       "      <th>y_true</th>\n",
       "      <th>y_pred</th>\n",
       "      <th>fejl</th>\n",
       "      <th>alpha</th>\n",
       "      <th>n_zero_coef</th>\n",
       "      <th>n_nonzero_coef</th>\n",
       "    </tr>\n",
       "    <tr>\n",
       "      <th>Dato</th>\n",
       "      <th></th>\n",
       "      <th></th>\n",
       "      <th></th>\n",
       "      <th></th>\n",
       "      <th></th>\n",
       "      <th></th>\n",
       "    </tr>\n",
       "  </thead>\n",
       "  <tbody>\n",
       "    <tr>\n",
       "      <th>2024-01-01</th>\n",
       "      <td>1.203</td>\n",
       "      <td>0.902111</td>\n",
       "      <td>0.300889</td>\n",
       "      <td>0.010257</td>\n",
       "      <td>158</td>\n",
       "      <td>25</td>\n",
       "    </tr>\n",
       "    <tr>\n",
       "      <th>2024-02-01</th>\n",
       "      <td>0.766</td>\n",
       "      <td>0.771334</td>\n",
       "      <td>0.005334</td>\n",
       "      <td>0.010257</td>\n",
       "      <td>158</td>\n",
       "      <td>25</td>\n",
       "    </tr>\n",
       "    <tr>\n",
       "      <th>2024-03-01</th>\n",
       "      <td>0.938</td>\n",
       "      <td>0.824454</td>\n",
       "      <td>0.113546</td>\n",
       "      <td>0.010257</td>\n",
       "      <td>158</td>\n",
       "      <td>25</td>\n",
       "    </tr>\n",
       "    <tr>\n",
       "      <th>2024-04-01</th>\n",
       "      <td>0.765</td>\n",
       "      <td>0.653528</td>\n",
       "      <td>0.111472</td>\n",
       "      <td>0.010257</td>\n",
       "      <td>158</td>\n",
       "      <td>25</td>\n",
       "    </tr>\n",
       "    <tr>\n",
       "      <th>2024-05-01</th>\n",
       "      <td>2.155</td>\n",
       "      <td>1.038592</td>\n",
       "      <td>1.116408</td>\n",
       "      <td>0.010257</td>\n",
       "      <td>158</td>\n",
       "      <td>25</td>\n",
       "    </tr>\n",
       "    <tr>\n",
       "      <th>2024-06-01</th>\n",
       "      <td>1.804</td>\n",
       "      <td>1.381793</td>\n",
       "      <td>0.422207</td>\n",
       "      <td>0.010257</td>\n",
       "      <td>158</td>\n",
       "      <td>25</td>\n",
       "    </tr>\n",
       "    <tr>\n",
       "      <th>2024-07-01</th>\n",
       "      <td>1.097</td>\n",
       "      <td>1.592349</td>\n",
       "      <td>0.495349</td>\n",
       "      <td>0.010257</td>\n",
       "      <td>158</td>\n",
       "      <td>25</td>\n",
       "    </tr>\n",
       "    <tr>\n",
       "      <th>2024-08-01</th>\n",
       "      <td>1.359</td>\n",
       "      <td>1.401678</td>\n",
       "      <td>0.042678</td>\n",
       "      <td>0.010257</td>\n",
       "      <td>158</td>\n",
       "      <td>25</td>\n",
       "    </tr>\n",
       "    <tr>\n",
       "      <th>2024-09-01</th>\n",
       "      <td>1.278</td>\n",
       "      <td>1.215124</td>\n",
       "      <td>0.062876</td>\n",
       "      <td>0.010257</td>\n",
       "      <td>158</td>\n",
       "      <td>25</td>\n",
       "    </tr>\n",
       "    <tr>\n",
       "      <th>2024-10-01</th>\n",
       "      <td>1.614</td>\n",
       "      <td>1.228400</td>\n",
       "      <td>0.385600</td>\n",
       "      <td>0.010257</td>\n",
       "      <td>158</td>\n",
       "      <td>25</td>\n",
       "    </tr>\n",
       "    <tr>\n",
       "      <th>2024-11-01</th>\n",
       "      <td>1.620</td>\n",
       "      <td>1.322108</td>\n",
       "      <td>0.297892</td>\n",
       "      <td>0.010257</td>\n",
       "      <td>158</td>\n",
       "      <td>25</td>\n",
       "    </tr>\n",
       "    <tr>\n",
       "      <th>2024-12-01</th>\n",
       "      <td>1.885</td>\n",
       "      <td>1.602972</td>\n",
       "      <td>0.282028</td>\n",
       "      <td>0.010257</td>\n",
       "      <td>158</td>\n",
       "      <td>25</td>\n",
       "    </tr>\n",
       "  </tbody>\n",
       "</table>\n",
       "</div>"
      ],
      "text/plain": [
       "            y_true    y_pred      fejl     alpha  n_zero_coef  n_nonzero_coef\n",
       "Dato                                                                         \n",
       "2024-01-01   1.203  0.902111  0.300889  0.010257          158              25\n",
       "2024-02-01   0.766  0.771334  0.005334  0.010257          158              25\n",
       "2024-03-01   0.938  0.824454  0.113546  0.010257          158              25\n",
       "2024-04-01   0.765  0.653528  0.111472  0.010257          158              25\n",
       "2024-05-01   2.155  1.038592  1.116408  0.010257          158              25\n",
       "2024-06-01   1.804  1.381793  0.422207  0.010257          158              25\n",
       "2024-07-01   1.097  1.592349  0.495349  0.010257          158              25\n",
       "2024-08-01   1.359  1.401678  0.042678  0.010257          158              25\n",
       "2024-09-01   1.278  1.215124  0.062876  0.010257          158              25\n",
       "2024-10-01   1.614  1.228400  0.385600  0.010257          158              25\n",
       "2024-11-01   1.620  1.322108  0.297892  0.010257          158              25\n",
       "2024-12-01   1.885  1.602972  0.282028  0.010257          158              25"
      ]
     },
     "execution_count": 25,
     "metadata": {},
     "output_type": "execute_result"
    }
   ],
   "source": [
    "forecast_df"
   ]
  },
  {
   "cell_type": "code",
   "execution_count": null,
   "id": "1b5ee446-8cda-41b3-90e6-58f71812af93",
   "metadata": {},
   "outputs": [],
   "source": []
  }
 ],
 "metadata": {
  "kernelspec": {
   "display_name": "Python 3 (ipykernel)",
   "language": "python",
   "name": "python3"
  },
  "language_info": {
   "codemirror_mode": {
    "name": "ipython",
    "version": 3
   },
   "file_extension": ".py",
   "mimetype": "text/x-python",
   "name": "python",
   "nbconvert_exporter": "python",
   "pygments_lexer": "ipython3",
   "version": "3.9.18"
  }
 },
 "nbformat": 4,
 "nbformat_minor": 5
}
