{
 "cells": [
  {
   "cell_type": "code",
   "execution_count": 1,
   "id": "64d17d36-f5d8-4c7f-9fcb-2da61b454a4f",
   "metadata": {},
   "outputs": [],
   "source": [
    "import os\n",
    "import getpass\n",
    "import numpy as np\n",
    "import pandas as pd\n",
    "from functools import reduce\n",
    "import matplotlib.pyplot as plt\n",
    "from sklearn.impute import SimpleImputer\n",
    "from sklearn.preprocessing import StandardScaler\n",
    "\n",
    "\n",
    "# Own Liberay\n",
    "import xgboost_model as model"
   ]
  },
  {
   "cell_type": "markdown",
   "id": "c7e24bd4-f6eb-487a-98d0-b07634179808",
   "metadata": {},
   "source": [
    "# XGBoost"
   ]
  },
  {
   "cell_type": "markdown",
   "id": "e1c788df-6dda-439d-a5f0-538927ee0e62",
   "metadata": {},
   "source": [
    "## 1. Load data"
   ]
  },
  {
   "cell_type": "code",
   "execution_count": 4,
   "id": "925b288b-f219-482c-9be9-8064c542ab08",
   "metadata": {},
   "outputs": [],
   "source": [
    "# Gå et niveau op og naviger til mappen \"Data\"\n",
    "os.chdir('../Data')"
   ]
  },
  {
   "cell_type": "code",
   "execution_count": 5,
   "id": "bbdeb992-afac-47e2-86ad-ca0bcf065cb6",
   "metadata": {},
   "outputs": [
    {
     "data": {
      "text/plain": [
       "(156, 184)"
      ]
     },
     "execution_count": 5,
     "metadata": {},
     "output_type": "execute_result"
    }
   ],
   "source": [
    "# Import features\n",
    "file_path = 'Merged_dataset.csv'\n",
    "df = pd.read_csv(\"merged_dataset.csv\", sep=\";\", parse_dates=[\"Date\"])\n",
    "df.set_index(\"Date\", inplace=True)\n",
    "df.shape"
   ]
  },
  {
   "cell_type": "code",
   "execution_count": 6,
   "id": "4da65235-36b6-40ab-bfb0-1a601b829339",
   "metadata": {},
   "outputs": [
    {
     "name": "stdout",
     "output_type": "stream",
     "text": [
      "y shape: (156,)\n",
      "X shape: (156, 183)\n"
     ]
    }
   ],
   "source": [
    "y = df.iloc[:, 0]   # første kolonne = inflation\n",
    "X = df.iloc[:, 1:]  # resten = forklarende variable\n",
    "\n",
    "# Tjek dimensioner\n",
    "print(\"y shape:\", y.shape)\n",
    "print(\"X shape:\", X.shape)"
   ]
  },
  {
   "cell_type": "markdown",
   "id": "8b71966b-3c9d-4e85-9959-299fbf11c0a1",
   "metadata": {},
   "source": [
    "## 2. Imputer manglende værdier"
   ]
  },
  {
   "cell_type": "code",
   "execution_count": 8,
   "id": "089b4be9-8402-4bd4-8a65-b13e8698ffcc",
   "metadata": {},
   "outputs": [],
   "source": [
    "imputer = SimpleImputer(strategy=\"median\")  # Eller \"median\"\n",
    "\n",
    "X_imputed = imputer.fit_transform(X)  # Imputer NaN i hele datasættet\n",
    "\n",
    "# Konverter tilbage til DataFrame med kolonnenavne\n",
    "X = pd.DataFrame(X_imputed, columns=X.columns, index = df.index)"
   ]
  },
  {
   "cell_type": "markdown",
   "id": "1abc3753-b308-4679-9056-1476972e72cf",
   "metadata": {},
   "source": [
    "## 3. Standardiser data "
   ]
  },
  {
   "cell_type": "code",
   "execution_count": 10,
   "id": "259c3b0a-9cb1-4bd3-a94a-6e66a32623b8",
   "metadata": {},
   "outputs": [
    {
     "ename": "NameError",
     "evalue": "name 'StandardScaler' is not defined",
     "output_type": "error",
     "traceback": [
      "\u001b[0;31m---------------------------------------------------------------------------\u001b[0m",
      "\u001b[0;31mNameError\u001b[0m                                 Traceback (most recent call last)",
      "\u001b[0;32m/var/folders/32/33wx77ld78x8dbvq5d_tbdqw0000gn/T/ipykernel_54904/2462607029.py\u001b[0m in \u001b[0;36m<module>\u001b[0;34m\u001b[0m\n\u001b[0;32m----> 1\u001b[0;31m \u001b[0mscaler\u001b[0m \u001b[0;34m=\u001b[0m \u001b[0mStandardScaler\u001b[0m\u001b[0;34m(\u001b[0m\u001b[0;34m)\u001b[0m\u001b[0;34m\u001b[0m\u001b[0;34m\u001b[0m\u001b[0m\n\u001b[0m\u001b[1;32m      2\u001b[0m \u001b[0mX_scaled\u001b[0m \u001b[0;34m=\u001b[0m \u001b[0mscaler\u001b[0m\u001b[0;34m.\u001b[0m\u001b[0mfit_transform\u001b[0m\u001b[0;34m(\u001b[0m\u001b[0mX\u001b[0m\u001b[0;34m)\u001b[0m\u001b[0;34m\u001b[0m\u001b[0;34m\u001b[0m\u001b[0m\n",
      "\u001b[0;31mNameError\u001b[0m: name 'StandardScaler' is not defined"
     ]
    }
   ],
   "source": [
    "scaler = StandardScaler()\n",
    "X_scaled = scaler.fit_transform(X)"
   ]
  },
  {
   "cell_type": "markdown",
   "id": "b130e18f-8f1a-4c1a-ac22-2091948bc057",
   "metadata": {},
   "source": [
    "# Forecast with rolling window"
   ]
  },
  {
   "cell_type": "code",
   "execution_count": null,
   "id": "37a63fa0-6ba4-4cf5-9bfd-cc2f84b25433",
   "metadata": {},
   "outputs": [],
   "source": [
    "xgb_result = model.XGBoost_Forecaster_Rolling(\n",
    "    X=X,\n",
    "    y=y,\n",
    "    forecast_horizon=12,\n",
    "    last_observation_date=\"2024-12-01\",\n",
    "    scaler=scaler,\n",
    "    window_length=108,\n",
    "    verbose=True\n",
    ")"
   ]
  },
  {
   "cell_type": "code",
   "execution_count": null,
   "id": "aca98967-4514-4859-be21-45032bd1aa40",
   "metadata": {},
   "outputs": [],
   "source": [
    "xgb_result"
   ]
  },
  {
   "cell_type": "markdown",
   "id": "cda13600-a429-4397-8548-3b24ca803114",
   "metadata": {},
   "source": [
    "# Rolling forecasts"
   ]
  },
  {
   "cell_type": "code",
   "execution_count": null,
   "id": "1afc092a-702e-419e-b373-f6272453c795",
   "metadata": {},
   "outputs": [],
   "source": [
    "forecast_results = model.run_rolling_forecast(X, y, forecast_horizon=12, start_date=\"2023-01-01\", end_date=\"2024-12-01\")"
   ]
  },
  {
   "cell_type": "code",
   "execution_count": null,
   "id": "ad85b363-8db8-4fe5-9458-de6c1519f772",
   "metadata": {},
   "outputs": [],
   "source": [
    "forecast_results"
   ]
  },
  {
   "cell_type": "code",
   "execution_count": null,
   "id": "282b1d83-a064-41f6-b6d2-76a37792f5c0",
   "metadata": {},
   "outputs": [],
   "source": [
    "eval_df, merged_df = model.evaluate_forecasts(forecast_results, y)\n",
    "eval_df"
   ]
  },
  {
   "cell_type": "code",
   "execution_count": null,
   "id": "7612c645-3ba8-402e-a423-ddd9e76a00f4",
   "metadata": {},
   "outputs": [],
   "source": [
    "h1 = merged_df[merged_df[\"Horizon\"] == 0]\n",
    "h1"
   ]
  },
  {
   "cell_type": "code",
   "execution_count": null,
   "id": "4292dc67-42cc-4155-889b-5dbb22100b3e",
   "metadata": {},
   "outputs": [],
   "source": [
    "sum_23 = h1[\"Inflationsforecast\"].iloc[0:11].sum() / 12\n",
    "sum_t23 = h1[\"y_true\"].iloc[0:11].sum() / 12\n",
    "print(sum_23)\n",
    "print(sum_t23)"
   ]
  },
  {
   "cell_type": "code",
   "execution_count": null,
   "id": "80cdeae2-e37d-4dc4-9eeb-fa7c742b9d73",
   "metadata": {},
   "outputs": [],
   "source": [
    "sum_r = h1[\"Inflationsforecast\"].iloc[11:24].sum() / 12\n",
    "sum_t = h1[\"y_true\"].iloc[11:24].sum() / 12\n",
    "print(sum_r)\n",
    "print(sum_t)"
   ]
  },
  {
   "cell_type": "code",
   "execution_count": null,
   "id": "8802e454-816e-427d-b5d9-8a26e96f617e",
   "metadata": {},
   "outputs": [],
   "source": [
    "plt.figure(figsize=(10, 5))\n",
    "plt.plot(h1[\"Dato\"], h1[\"y_true\"], label=\"Faktisk\", marker=\"o\")\n",
    "plt.plot(h1[\"Dato\"], h1[\"Inflationsforecast\"], label=\"Forecast (h=1)\", marker=\"x\")\n",
    "plt.legend()\n",
    "plt.title(\"XGboost: Forecast vs Faktisk Inflation (h=1)\")\n",
    "plt.grid(True)\n",
    "plt.tight_layout()\n",
    "plt.show()"
   ]
  },
  {
   "cell_type": "code",
   "execution_count": null,
   "id": "f941a176-e0a3-4dd6-a84e-200b41bba2fb",
   "metadata": {},
   "outputs": [],
   "source": [
    "plt.figure(figsize=(10, 5))\n",
    "plt.plot(h1[\"Dato\"], h1[\"error\"], label=\"error\", marker=\"o\")\n",
    "plt.plot(h1[\"Dato\"], h1[\"squared_error\"], label=\"abs_error\", marker=\"x\")\n",
    "plt.legend()\n",
    "plt.title(\"XGBoost: Error\")\n",
    "plt.grid(True)\n",
    "plt.tight_layout()\n",
    "plt.show()"
   ]
  },
  {
   "cell_type": "code",
   "execution_count": null,
   "id": "399b84c5-a2cc-470a-a60f-21076ca750fa",
   "metadata": {},
   "outputs": [],
   "source": []
  }
 ],
 "metadata": {
  "kernelspec": {
   "display_name": "Python 3 (ipykernel)",
   "language": "python",
   "name": "python3"
  },
  "language_info": {
   "codemirror_mode": {
    "name": "ipython",
    "version": 3
   },
   "file_extension": ".py",
   "mimetype": "text/x-python",
   "name": "python",
   "nbconvert_exporter": "python",
   "pygments_lexer": "ipython3",
   "version": "3.9.18"
  }
 },
 "nbformat": 4,
 "nbformat_minor": 5
}
